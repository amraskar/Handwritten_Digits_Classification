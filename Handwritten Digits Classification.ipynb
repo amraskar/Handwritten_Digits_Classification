{
 "cells": [
  {
   "cell_type": "code",
   "execution_count": 123,
   "id": "initial_id",
   "metadata": {
    "collapsed": true,
    "ExecuteTime": {
     "end_time": "2023-09-25T14:14:12.279110700Z",
     "start_time": "2023-09-25T14:14:12.183744900Z"
    }
   },
   "outputs": [],
   "source": [
    "import matplotlib.pyplot as plt\n",
    "import seaborn as sns\n",
    "import numpy as np\n",
    "import tensorflow as tf\n",
    "from tensorflow import keras"
   ]
  },
  {
   "cell_type": "code",
   "execution_count": 124,
   "outputs": [],
   "source": [
    "(X_train, y_train), (X_test, y_test) = keras.datasets.mnist.load_data()"
   ],
   "metadata": {
    "collapsed": false,
    "ExecuteTime": {
     "end_time": "2023-09-25T14:14:12.418706700Z",
     "start_time": "2023-09-25T14:14:12.192322900Z"
    }
   },
   "id": "74cec4c3dacf7be6"
  },
  {
   "cell_type": "code",
   "execution_count": 125,
   "outputs": [
    {
     "data": {
      "text/plain": "(60000, 28, 28)"
     },
     "execution_count": 125,
     "metadata": {},
     "output_type": "execute_result"
    }
   ],
   "source": [
    "X_train.shape"
   ],
   "metadata": {
    "collapsed": false,
    "ExecuteTime": {
     "end_time": "2023-09-25T14:14:12.421843900Z",
     "start_time": "2023-09-25T14:14:12.418706700Z"
    }
   },
   "id": "9a606db30b148a04"
  },
  {
   "cell_type": "code",
   "execution_count": 126,
   "outputs": [
    {
     "data": {
      "text/plain": "(10000, 28, 28)"
     },
     "execution_count": 126,
     "metadata": {},
     "output_type": "execute_result"
    }
   ],
   "source": [
    "X_test.shape"
   ],
   "metadata": {
    "collapsed": false,
    "ExecuteTime": {
     "end_time": "2023-09-25T14:14:12.434220800Z",
     "start_time": "2023-09-25T14:14:12.421843900Z"
    }
   },
   "id": "d9d9e81f60efcddb"
  },
  {
   "cell_type": "code",
   "execution_count": 127,
   "outputs": [],
   "source": [
    "def show_image(train, label, img):\n",
    "    number = label[img]\n",
    "    print(f'NUMBER is: {number}')\n",
    "    plt.imshow(train[img])"
   ],
   "metadata": {
    "collapsed": false,
    "ExecuteTime": {
     "end_time": "2023-09-25T14:14:12.434220800Z",
     "start_time": "2023-09-25T14:14:12.428881900Z"
    }
   },
   "id": "ca9170ffd5a741ec"
  },
  {
   "cell_type": "code",
   "execution_count": 128,
   "outputs": [
    {
     "name": "stdout",
     "output_type": "stream",
     "text": [
      "NUMBER is: 1\n"
     ]
    },
    {
     "data": {
      "text/plain": "<Figure size 640x480 with 1 Axes>",
      "image/png": "[encoded data removed]"
     },
     "metadata": {},
     "output_type": "display_data"
    }
   ],
   "source": [
    "show_image(X_train, y_train, 78)"
   ],
   "metadata": {
    "collapsed": false,
    "ExecuteTime": {
     "end_time": "2023-09-25T14:14:12.552963700Z",
     "start_time": "2023-09-25T14:14:12.434220800Z"
    }
   },
   "id": "e758a45e79578560"
  },
  {
   "cell_type": "code",
   "execution_count": 129,
   "outputs": [
    {
     "data": {
      "text/plain": "0"
     },
     "execution_count": 129,
     "metadata": {},
     "output_type": "execute_result"
    }
   ],
   "source": [
    "np.min(y_train)"
   ],
   "metadata": {
    "collapsed": false,
    "ExecuteTime": {
     "end_time": "2023-09-25T14:14:12.552963700Z",
     "start_time": "2023-09-25T14:14:12.549007400Z"
    }
   },
   "id": "d1d45926a5a22b45"
  },
  {
   "cell_type": "code",
   "execution_count": 130,
   "outputs": [
    {
     "data": {
      "text/plain": "9"
     },
     "execution_count": 130,
     "metadata": {},
     "output_type": "execute_result"
    }
   ],
   "source": [
    "np.max(y_train)"
   ],
   "metadata": {
    "collapsed": false,
    "ExecuteTime": {
     "end_time": "2023-09-25T14:14:12.559490400Z",
     "start_time": "2023-09-25T14:14:12.552963700Z"
    }
   },
   "id": "48b6667547c59cb"
  },
  {
   "cell_type": "code",
   "execution_count": 131,
   "outputs": [],
   "source": [
    "X_train = X_train / 255\n",
    "X_test = X_test/ 255"
   ],
   "metadata": {
    "collapsed": false,
    "ExecuteTime": {
     "end_time": "2023-09-25T14:14:12.664950200Z",
     "start_time": "2023-09-25T14:14:12.559490400Z"
    }
   },
   "id": "bd3a5ae19d6e34be"
  },
  {
   "cell_type": "code",
   "execution_count": 132,
   "outputs": [],
   "source": [
    "model = keras.Sequential([\n",
    "    keras.layers.Flatten(input_shape=(28, 28)),\n",
    "    keras.layers.Dense(100, input_shape=(784,), activation='relu'),\n",
    "    keras.layers.Dense(10, activation='sigmoid')\n",
    "])"
   ],
   "metadata": {
    "collapsed": false,
    "ExecuteTime": {
     "end_time": "2023-09-25T14:14:12.692558100Z",
     "start_time": "2023-09-25T14:14:12.664950200Z"
    }
   },
   "id": "156db6f0559486a"
  },
  {
   "cell_type": "code",
   "execution_count": 133,
   "outputs": [],
   "source": [
    "model.compile(\n",
    "    optimizer='adam',\n",
    "    loss='sparse_categorical_crossentropy',\n",
    "    metrics=['accuracy']\n",
    ")"
   ],
   "metadata": {
    "collapsed": false,
    "ExecuteTime": {
     "end_time": "2023-09-25T14:14:12.700782400Z",
     "start_time": "2023-09-25T14:14:12.692558100Z"
    }
   },
   "id": "1428808adcdb49bc"
  },
  {
   "cell_type": "code",
   "execution_count": 134,
   "outputs": [
    {
     "name": "stdout",
     "output_type": "stream",
     "text": [
      "Epoch 1/5\n",
      "1875/1875 [==============================] - 2s 1ms/step - loss: 0.2728 - accuracy: 0.9236\n",
      "Epoch 2/5\n",
      "1875/1875 [==============================] - 2s 1ms/step - loss: 0.1222 - accuracy: 0.9636\n",
      "Epoch 3/5\n",
      "1875/1875 [==============================] - 2s 1ms/step - loss: 0.0847 - accuracy: 0.9746\n",
      "Epoch 4/5\n",
      "1875/1875 [==============================] - 2s 1ms/step - loss: 0.0649 - accuracy: 0.9802\n",
      "Epoch 5/5\n",
      "1875/1875 [==============================] - 2s 1ms/step - loss: 0.0507 - accuracy: 0.9843\n"
     ]
    },
    {
     "data": {
      "text/plain": "<keras.src.callbacks.History at 0x155060a4990>"
     },
     "execution_count": 134,
     "metadata": {},
     "output_type": "execute_result"
    }
   ],
   "source": [
    "model.fit(X_train, y_train, epochs=5)"
   ],
   "metadata": {
    "collapsed": false,
    "ExecuteTime": {
     "end_time": "2023-09-25T14:14:23.488894100Z",
     "start_time": "2023-09-25T14:14:12.700782400Z"
    }
   },
   "id": "9f57e889cb3c9cdc"
  },
  {
   "cell_type": "code",
   "execution_count": 135,
   "outputs": [
    {
     "name": "stdout",
     "output_type": "stream",
     "text": [
      "313/313 [==============================] - 0s 775us/step - loss: 0.0783 - accuracy: 0.9751\n"
     ]
    },
    {
     "data": {
      "text/plain": "[0.07834663987159729, 0.9750999808311462]"
     },
     "execution_count": 135,
     "metadata": {},
     "output_type": "execute_result"
    }
   ],
   "source": [
    "model.evaluate(X_test, y_test)"
   ],
   "metadata": {
    "collapsed": false,
    "ExecuteTime": {
     "end_time": "2023-09-25T14:14:23.892886300Z",
     "start_time": "2023-09-25T14:14:23.488894100Z"
    }
   },
   "id": "2ce3da23804e5e4d"
  },
  {
   "cell_type": "code",
   "execution_count": 136,
   "outputs": [
    {
     "name": "stdout",
     "output_type": "stream",
     "text": [
      "NUMBER is: 7\n"
     ]
    },
    {
     "data": {
      "text/plain": "<Figure size 640x480 with 1 Axes>",
      "image/png": "[encoded data removed]"
     },
     "metadata": {},
     "output_type": "display_data"
    }
   ],
   "source": [
    "show_image(X_test, y_test, 0)"
   ],
   "metadata": {
    "collapsed": false,
    "ExecuteTime": {
     "end_time": "2023-09-25T14:14:24.051709800Z",
     "start_time": "2023-09-25T14:14:23.895887500Z"
    }
   },
   "id": "f9f10f312023de1a"
  },
  {
   "cell_type": "code",
   "execution_count": 137,
   "outputs": [
    {
     "name": "stdout",
     "output_type": "stream",
     "text": [
      "313/313 [==============================] - 0s 946us/step\n"
     ]
    },
    {
     "data": {
      "text/plain": "7"
     },
     "execution_count": 137,
     "metadata": {},
     "output_type": "execute_result"
    }
   ],
   "source": [
    "y_predict = model.predict(X_test)\n",
    "np.argmax(y_predict[0])"
   ],
   "metadata": {
    "collapsed": false,
    "ExecuteTime": {
     "end_time": "2023-09-25T14:14:24.556614900Z",
     "start_time": "2023-09-25T14:14:24.042139900Z"
    }
   },
   "id": "c18ca2d154379b82"
  },
  {
   "cell_type": "code",
   "execution_count": 138,
   "outputs": [],
   "source": [
    "y_predict_labels = [np.argmax(i) for i in y_predict]"
   ],
   "metadata": {
    "collapsed": false,
    "ExecuteTime": {
     "end_time": "2023-09-25T14:14:24.570490900Z",
     "start_time": "2023-09-25T14:14:24.552625100Z"
    }
   },
   "id": "28691ac8e7b5c310"
  },
  {
   "cell_type": "code",
   "execution_count": 139,
   "outputs": [
    {
     "data": {
      "text/plain": "<tf.Tensor: shape=(10, 10), dtype=int32, numpy=\narray([[ 969,    0,    0,    1,    0,    1,    6,    0,    2,    1],\n       [   0, 1121,    4,    0,    0,    1,    4,    0,    5,    0],\n       [   5,    1, 1002,    5,    3,    0,    3,    6,    6,    1],\n       [   0,    0,    2,  996,    0,    2,    0,    4,    2,    4],\n       [   1,    1,    3,    1,  953,    1,    5,    3,    2,   12],\n       [   2,    1,    0,   15,    1,  864,    5,    1,    1,    2],\n       [   4,    2,    2,    1,    1,    4,  944,    0,    0,    0],\n       [   0,    5,    8,    1,    0,    0,    0, 1007,    1,    6],\n       [   8,    2,    3,   12,    4,   10,    1,    6,  924,    4],\n       [   3,    5,    0,   12,    5,    2,    1,   10,    0,  971]])>"
     },
     "execution_count": 139,
     "metadata": {},
     "output_type": "execute_result"
    }
   ],
   "source": [
    "cm = tf.math.confusion_matrix(labels=y_test, predictions=y_predict_labels)\n",
    "cm"
   ],
   "metadata": {
    "collapsed": false,
    "ExecuteTime": {
     "end_time": "2023-09-25T14:14:24.609198200Z",
     "start_time": "2023-09-25T14:14:24.572488700Z"
    }
   },
   "id": "92c8aeeae296fcc0"
  },
  {
   "cell_type": "code",
   "execution_count": 140,
   "outputs": [
    {
     "data": {
      "text/plain": "Text(50.722222222222214, 0.5, 'Actual')"
     },
     "execution_count": 140,
     "metadata": {},
     "output_type": "execute_result"
    },
    {
     "data": {
      "text/plain": "<Figure size 640x480 with 2 Axes>",
      "image/png": "[encoded data removed]"
     },
     "metadata": {},
     "output_type": "display_data"
    }
   ],
   "source": [
    "sns.heatmap(cm, annot=True, fmt='d')\n",
    "plt.xlabel('Prediction')\n",
    "plt.ylabel('Actual')"
   ],
   "metadata": {
    "collapsed": false,
    "ExecuteTime": {
     "end_time": "2023-09-25T14:14:24.883867500Z",
     "start_time": "2023-09-25T14:14:24.581038200Z"
    }
   },
   "id": "a1e788419c07fd1c"
  },
  {
   "cell_type": "code",
   "execution_count": 140,
   "outputs": [],
   "source": [],
   "metadata": {
    "collapsed": false,
    "ExecuteTime": {
     "end_time": "2023-09-25T14:14:24.883867500Z",
     "start_time": "2023-09-25T14:14:24.879046100Z"
    }
   },
   "id": "bf3ff35f534516b9"
  }
 ],
 "metadata": {
  "kernelspec": {
   "display_name": "Python 3",
   "language": "python",
   "name": "python3"
  },
  "language_info": {
   "codemirror_mode": {
    "name": "ipython",
    "version": 2
   },
   "file_extension": ".py",
   "mimetype": "text/x-python",
   "name": "python",
   "nbconvert_exporter": "python",
   "pygments_lexer": "ipython2",
   "version": "2.7.6"
  }
 },
 "nbformat": 4,
 "nbformat_minor": 5
}
